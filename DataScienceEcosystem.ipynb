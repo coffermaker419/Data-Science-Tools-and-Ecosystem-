{
 "cells": [
  {
   "cell_type": "markdown",
   "id": "d9d2e46f-8bcc-4a00-b692-03844bdbf578",
   "metadata": {},
   "source": [
    "# Data Science Tools and Ecosystem "
   ]
  },
  {
   "cell_type": "code",
   "execution_count": 1,
   "id": "207c58b9-ac28-49b4-9548-3aa846cd5081",
   "metadata": {},
   "outputs": [
    {
     "data": {
      "text/plain": [
       "'In this notebook, Data Science Tools and Ecosystem are summarised.'"
      ]
     },
     "execution_count": 1,
     "metadata": {},
     "output_type": "execute_result"
    }
   ],
   "source": [
    "'In this notebook, Data Science Tools and Ecosystem are summarised.'"
   ]
  },
  {
   "cell_type": "markdown",
   "id": "e5b34918-362a-4f34-a2e1-1f110522b0ce",
   "metadata": {},
   "source": [
    "**Objectives:**\n",
    "\n",
    "- Understand basic syntax in Jupyter\n",
    "- Create tables using Markdown\n",
    "- Arithmetic expressions in Python\n",
    "- Popular languages for Data Science\n",
    "- How to format text using headings and bold style"
   ]
  },
  {
   "cell_type": "code",
   "execution_count": 2,
   "id": "fc9a8097-ce33-4102-8c73-16dc489a9090",
   "metadata": {},
   "outputs": [
    {
     "data": {
      "text/plain": [
       "'Some of the popular languages that Data Scientists use are:'"
      ]
     },
     "execution_count": 2,
     "metadata": {},
     "output_type": "execute_result"
    }
   ],
   "source": [
    "'Some of the popular languages that Data Scientists use are:'"
   ]
  },
  {
   "cell_type": "markdown",
   "id": "a32d74f1-30f2-45c0-9216-4cde0ff21dc7",
   "metadata": {},
   "source": [
    "1. python\n",
    "2. SQL\n",
    "3. R\n",
    "4. C++"
   ]
  },
  {
   "cell_type": "markdown",
   "id": "09351144-287c-40df-9e17-751613ad372c",
   "metadata": {},
   "source": [
    "Some of the commonly used libraries used by Data Scientists include:\n",
    "\n",
    "1. NumPy\n",
    "2. Pandas\n",
    "3. Matplotlib\n",
    "4. Scikit-learn\n",
    "5. TensorFlow\n"
   ]
  },
  {
   "cell_type": "markdown",
   "id": "0aa71938-f439-422f-8a19-48048d36e8fd",
   "metadata": {},
   "source": [
    "| Data Science Tools   |\n",
    "|----------------------|\n",
    "| Jupyter Notebook     |\n",
    "| RStudio              |\n",
    "| VS Code              |"
   ]
  },
  {
   "cell_type": "markdown",
   "id": "f5049144-c7d7-4f57-b882-e92c7a7d766f",
   "metadata": {},
   "source": [
    "### Below are a few examples of evaluting arithmetic expressions in Python:\n",
    "- 3+4\n",
    "- 7*7\n",
    "- 10%2\n",
    "- 2**2\n",
    "- 8/2"
   ]
  },
  {
   "cell_type": "code",
   "execution_count": 3,
   "id": "d95fb9fa-f203-44bf-913e-6aac4cf2e8e3",
   "metadata": {},
   "outputs": [],
   "source": [
    "##This a simple arithmetic expression to mutiply then add integers"
   ]
  },
  {
   "cell_type": "code",
   "execution_count": 4,
   "id": "98e963e9-2163-4b21-a52c-71a7404c2081",
   "metadata": {},
   "outputs": [
    {
     "data": {
      "text/plain": [
       "17"
      ]
     },
     "execution_count": 4,
     "metadata": {},
     "output_type": "execute_result"
    }
   ],
   "source": [
    "(3*4)+5"
   ]
  },
  {
   "cell_type": "code",
   "execution_count": 5,
   "id": "13c586cb-ef69-471f-9c18-14f36c5fe18a",
   "metadata": {},
   "outputs": [
    {
     "data": {
      "text/plain": [
       "3.3333333333333335"
      ]
     },
     "execution_count": 5,
     "metadata": {},
     "output_type": "execute_result"
    }
   ],
   "source": [
    "# hour = 60 minutes\n",
    "200/60"
   ]
  },
  {
   "cell_type": "markdown",
   "id": "f2c525ec-7389-4db4-81b4-7567947a3447",
   "metadata": {},
   "source": [
    "## Author\n",
    "H"
   ]
  },
  {
   "cell_type": "code",
   "execution_count": null,
   "id": "d657f12c-95e0-4a0a-9d88-8980b942a2e7",
   "metadata": {},
   "outputs": [],
   "source": []
  }
 ],
 "metadata": {
  "kernelspec": {
   "display_name": "Python [conda env:base] *",
   "language": "python",
   "name": "conda-base-py"
  },
  "language_info": {
   "codemirror_mode": {
    "name": "ipython",
    "version": 3
   },
   "file_extension": ".py",
   "mimetype": "text/x-python",
   "name": "python",
   "nbconvert_exporter": "python",
   "pygments_lexer": "ipython3",
   "version": "3.13.5"
  }
 },
 "nbformat": 4,
 "nbformat_minor": 5
}
